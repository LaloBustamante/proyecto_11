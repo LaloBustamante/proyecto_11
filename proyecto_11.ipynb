{
 "cells": [
  {
   "cell_type": "markdown",
   "metadata": {},
   "source": [
    "# Descripción del proyecto\n",
    "\n",
    "Trabajas en la compañía de extracción de petróleo OilyGiant. Tu tarea es encontrar los mejores lugares donde abrir 200 pozos nuevos de \n",
    "petróleo.\n",
    "\n",
    "Para completar esta tarea, tendrás que realizar los siguientes pasos:\n",
    "\n",
    "* Leer los archivos con los parámetros recogidos de pozos petrolíferos en la región seleccionada: calidad de crudo y volumen de reservas.  \n",
    "* Crear un modelo para predecir el volumen de reservas en pozos nuevos.  \n",
    "* Elegir los pozos petrolíferos que tienen los valores estimados más altos.  \n",
    "* Elegir la región con el beneficio total más alto para los pozos petrolíferos seleccionados.  \n",
    "\n",
    "Tienes datos sobre muestras de crudo de tres regiones. Ya se conocen los parámetros de cada pozo petrolero de la región. Crea un modelo \n",
    "que ayude a elegir la región con el mayor margen de beneficio. Analiza los beneficios y riesgos potenciales utilizando la técnica \n",
    "bootstrapping.  \n",
    "\n",
    "### Condiciones:\n",
    "\n",
    "* Solo se debe usar la regresión lineal para el entrenamiento del modelo.  \n",
    "* Al explorar la región, se lleva a cabo un estudio de 500 puntos con la selección de los mejores 200 puntos para el cálculo del beneficio.  \n",
    "* El presupuesto para el desarrollo de 200 pozos petroleros es de 100 millones de dólares.  \n",
    "* Un barril de materias primas genera 4.5 USD de ingresos. El ingreso de una unidad de producto es de 4500 dólares (el volumen de reservas está \n",
    "expresado en miles de barriles).  \n",
    "* Después de la evaluación de riesgo, mantén solo las regiones con riesgo de pérdidas inferior al 2.5%. De las que se ajustan a los criterios, \n",
    "se debe seleccionar la región con el beneficio promedio más alto.  \n",
    "\n",
    "Los datos son sintéticos: los detalles del contrato y las características del pozo no se publican.\n",
    "\n",
    "### Descripción de datos\n",
    "\n",
    "Los datos de exploración geológica de las tres regiones se almacenan en archivos:  \n",
    "\n",
    "* geo_data_0.csv. Descarga el conjunto de datos  \n",
    "* geo_data_1.csv. Descarga el conjunto de datos  \n",
    "* geo_data_2.csv. Descarga el conjunto de datos  \n",
    "* id — identificador único de pozo de petróleo  \n",
    "* f0, f1, f2 — tres características de los puntos (su significado específico no es importante, pero las características en sí son \n",
    "significativas)  \n",
    "* product — volumen de reservas en el pozo de petróleo (miles de barriles).  \n",
    "\n",
    "### Instrucciones del proyecto\n",
    "\n",
    "1. Descarga y prepara los datos. Explica el procedimiento.  \n",
    "2. Entrena y prueba el modelo para cada región en geo_data_0.csv:  \n",
    "    1. Divide los datos en un conjunto de entrenamiento y un conjunto de validación en una proporción de 75:25  \n",
    "\n",
    "    2. Entrena el modelo y haz predicciones para el conjunto de validación.  \n",
    "\n",
    "    3. Guarda las predicciones y las respuestas correctas para el conjunto de validación.  \n",
    "\n",
    "    4. Muestra el volumen medio de reservas predicho y RMSE del modelo.  \n",
    "\n",
    "    5. Analiza los resultados.  \n",
    "\n",
    "    6. Coloca todos los pasos previos en funciones, realiza y ejecuta los pasos 2.1-2.5 para los archivos 'geo_data_1.csv' y 'geo_data_2.csv'.  \n",
    "\n",
    "3. Prepárate para el cálculo de ganancias:  \n",
    "    1. Almacena todos los valores necesarios para los cálculos en variables separadas.  \n",
    "\n",
    "    2. Dada la inversión de 100 millones por 200 pozos petrolíferos, de media un pozo petrolífero debe producir al menos un valor de 500,000 dólares \n",
    "en unidades para evitar pérdidas (esto es equivalente a 111.1 unidades). Compara esta cantidad con la cantidad media de reservas en cada \n",
    "región.\n",
    "\n",
    "    3. Presenta conclusiones sobre cómo preparar el paso para calcular el beneficio.  \n",
    "\n",
    "4. Escribe una función para calcular la ganancia de un conjunto de pozos de petróleo seleccionados y modela las predicciones:  \n",
    "\n",
    "    1. Elige los 200 pozos con los valores de predicción más altos de cada una de las 3 regiones (es decir, archivos 'csv').  \n",
    "\n",
    "    2. Resume el volumen objetivo de reservas según dichas predicciones. Almacena las predicciones para los 200 pozos para cada una de las 3 \n",
    "regiones.  \n",
    "\n",
    "    3. Calcula la ganancia potencial de los 200 pozos principales por región. Presenta tus conclusiones: propón una región para el desarrollo de \n",
    "pozos petrolíferos y justifica tu elección.  \n",
    "\n",
    "5. Calcula riesgos y ganancias para cada región:\n",
    "\n",
    "    1. Utilizando las predicciones que almacenaste en el paso 4.2, emplea la técnica del bootstrapping con 1000 muestras para hallar la distribución \n",
    "de los beneficios.\n",
    "\n",
    "    2. Encuentra el beneficio promedio, el intervalo de confianza del 95% y el riesgo de pérdidas. La pérdida es una ganancia negativa, calcúlala \n",
    "como una probabilidad y luego exprésala como un porcentaje.\n",
    "\n",
    "   3. Presenta tus conclusiones: propón una región para el desarrollo de pozos petrolíferos y justifica tu elección. ¿Coincide tu elección con la \n",
    "elección anterior en el punto 4.3?\n",
    "\n",
    "### Evaluación del proyecto  \n",
    "\n",
    "Hemos definido los criterios de evaluación para el proyecto. Lee esto con atención antes de pasar al ejercicio.  \n",
    "\n",
    "Esto es lo que los revisores buscarán cuando evalúen tu proyecto:  \n",
    "\n",
    "* ¿Cómo preparaste los datos para el entrenamiento?\n",
    "* ¿Seguiste todos los pasos de las instrucciones?\n",
    "* ¿Consideraste todas las condiciones del negocio?\n",
    "* ¿Cuáles son tus hallazgos sobre el estudio de tareas?\n",
    "* ¿Aplicaste correctamente la técnica bootstrapping?\n",
    "* ¿Sugeriste la mejor región para el desarrollo de pozos? ¿Justificaste tu elección?\n",
    "* ¿Evitaste la duplicación de código?\n",
    "* ¿Mantuviste la estructura del proyecto y el código limpio?\n",
    "\n"
   ]
  },
  {
   "cell_type": "markdown",
   "metadata": {},
   "source": [
    "El objetivo es encontrar la región más rentable para perforar 200 nuevos pozos de petróleo. Para ello, se usará un modelo de \n",
    "regresión lineal para predecir el volumen de reservas en cada pozo y luego se seleccionará las regiones con mayor potencial de ganancia, \n",
    "considerando tanto el beneficio promedio como el riesgo."
   ]
  },
  {
   "cell_type": "code",
   "execution_count": 1,
   "metadata": {},
   "outputs": [],
   "source": [
    "# Librerias usadas: \n",
    "import pandas as pd\n",
    "import numpy as np\n",
    "import matplotlib.pyplot as plt\n",
    "from sklearn.model_selection import train_test_split\n",
    "from sklearn.linear_model import LinearRegression\n",
    "from sklearn.metrics import mean_squared_error\n",
    "from sklearn.preprocessing import StandardScaler"
   ]
  },
  {
   "cell_type": "code",
   "execution_count": 2,
   "metadata": {},
   "outputs": [],
   "source": [
    "# Cargar los archivos CSV\n",
    "# Lista de archivos\n",
    "file_paths = ['datasets/geo_data_0.csv', 'datasets/geo_data_1.csv', 'datasets/geo_data_2.csv']"
   ]
  },
  {
   "cell_type": "code",
   "execution_count": 3,
   "metadata": {},
   "outputs": [],
   "source": [
    "# Función para limpiar y preparar los datos\n",
    "def prepare_data(df):\n",
    "    # Eliminar duplicados\n",
    "    df = df.drop_duplicates()\n",
    "    \n",
    "    # Verificar y manejar valores nulos\n",
    "    # Si hay valores nulos, usar interpolación lineal, si no, rellenar con la mediana\n",
    "    if df.isnull().sum().sum() > 0:\n",
    "        print(\"Valores nulos detectados. Aplicando interpolación o llenado con mediana.\")\n",
    "        df = df.interpolate(method='linear', limit_direction='forward', axis=0)  # Interpolación\n",
    "        df.fillna(df.median(), inplace=True)  # Rellenar cualquier nulo restante con la mediana\n",
    "\n",
    "    # Estandarizar las características geológicas (f0, f1, f2)\n",
    "    scaler = StandardScaler()\n",
    "    df[['f0', 'f1', 'f2']] = scaler.fit_transform(df[['f0', 'f1', 'f2']])\n",
    "\n",
    "    return df"
   ]
  },
  {
   "cell_type": "code",
   "execution_count": 4,
   "metadata": {},
   "outputs": [
    {
     "name": "stdout",
     "output_type": "stream",
     "text": [
      "Primeras 5 filas de datasets/geo_data_0.csv después de la limpieza y estandarización:\n",
      "      id        f0        f1        f2     product\n",
      "0  txEyH  0.235512 -1.482793 -0.394515  105.280062\n",
      "1  2acmU  0.956946 -1.170246  0.573368   73.037750\n",
      "2  409Wp  0.599101 -0.194581 -0.333326   85.265647\n",
      "3  iJLyR -0.610890 -0.220269  0.146516  168.620776\n",
      "4  Xdl7t  1.706773 -0.187797  0.692414  154.036647\n",
      "\n",
      "Resumen estadístico de datasets/geo_data_0.csv después de la limpieza y estandarización:\n",
      "                 f0            f1            f2        product\n",
      "count  1.000000e+05  1.000000e+05  1.000000e+05  100000.000000\n",
      "mean   1.953993e-17 -5.336176e-17  9.695356e-17      92.500000\n",
      "std    1.000005e+00  1.000005e+00  1.000005e+00      44.288691\n",
      "min   -2.189681e+00 -2.177430e+00 -4.491975e+00       0.000000\n",
      "25%   -6.572397e-01 -8.941262e-01 -6.818784e-01      56.497507\n",
      "50%    2.226500e-03  2.166008e-04  4.101360e-03      91.849972\n",
      "75%    6.574259e-01  8.930937e-01  6.811217e-01     128.564089\n",
      "max    2.135642e+00  2.168043e+00  4.156460e+00     185.364347\n",
      "\n",
      "\n",
      "Primeras 5 filas de datasets/geo_data_1.csv después de la limpieza y estandarización:\n",
      "      id        f0        f1        f2     product\n",
      "0  kBEdx -1.800451 -0.679595 -1.467757    3.179103\n",
      "1  62mP7  1.464528  0.258112 -0.877783   26.953261\n",
      "2  vyE1P  0.571264 -0.224969  1.471398  134.766305\n",
      "3  KcrkZ -1.586290 -1.310484  1.470373  137.945408\n",
      "4  AHL4O  1.289432 -0.654483  1.473278  134.766305\n",
      "\n",
      "Resumen estadístico de datasets/geo_data_1.csv después de la limpieza y estandarización:\n",
      "                 f0            f1            f2        product\n",
      "count  1.000000e+05  1.000000e+05  1.000000e+05  100000.000000\n",
      "mean  -6.394885e-18  1.708855e-17  1.467981e-16      68.825000\n",
      "std    1.000005e+00  1.000005e+00  1.000005e+00      45.944423\n",
      "min   -3.652831e+00 -4.211458e+00 -1.474959e+00       0.000000\n",
      "25%   -8.297949e-01 -6.780293e-01 -8.772907e-01      26.953261\n",
      "50%    1.311571e-03 -3.240857e-03 -2.835602e-01      57.085625\n",
      "75%    8.342420e-01  6.765366e-01  8.836555e-01     107.813044\n",
      "max    3.154229e+00  4.595967e+00  1.482293e+00     137.945408\n",
      "\n",
      "\n",
      "Primeras 5 filas de datasets/geo_data_2.csv después de la limpieza y estandarización:\n",
      "      id        f0        f1        f2     product\n",
      "0  fwXo0 -0.663387  0.557908 -0.957007   27.758673\n",
      "1  WJtFt  0.150548  0.157142 -1.446788   56.069697\n",
      "2  ovLUW  0.111178  0.168235 -2.326682   62.871910\n",
      "3  q6cA6  1.289833 -0.318815 -0.450590  114.572842\n",
      "4  WPMUX -0.299079  0.993029  0.979978  149.600746\n",
      "\n",
      "Resumen estadístico de datasets/geo_data_2.csv después de la limpieza y estandarización:\n",
      "                 f0            f1            f2        product\n",
      "count  1.000000e+05  1.000000e+05  1.000000e+05  100000.000000\n",
      "mean   2.360778e-17 -1.499245e-17 -1.378098e-16      95.000000\n",
      "std    1.000005e+00  1.000005e+00  1.000005e+00      44.749921\n",
      "min   -5.058801e+00 -4.092640e+00 -4.164608e+00       0.000000\n",
      "25%   -6.722210e-01 -6.777239e-01 -6.808172e-01      59.450441\n",
      "50%    4.272944e-03 -4.277388e-03 -3.135732e-03      94.925613\n",
      "75%    6.677185e-01  6.736897e-01  6.804996e-01     130.595027\n",
      "max    4.177880e+00  4.534699e+00  4.100928e+00     190.029838\n",
      "\n",
      "\n"
     ]
    }
   ],
   "source": [
    "# Cargar los archivos CSV con preparación de datos\n",
    "for file in file_paths:\n",
    "    # Cargar el archivo en un DataFrame\n",
    "    df = pd.read_csv(file)\n",
    "    \n",
    "    # Preparar los datos (limpieza y estandarización)\n",
    "    df = prepare_data(df)\n",
    "\n",
    "    # Mostrar las primeras 5 filas y resumen estadístico después de la preparación\n",
    "    print(f\"Primeras 5 filas de {file} después de la limpieza y estandarización:\")\n",
    "    print(df.head())\n",
    "\n",
    "    print(f\"\\nResumen estadístico de {file} después de la limpieza y estandarización:\")\n",
    "    print(df.describe())\n",
    "    print(\"\\n\")"
   ]
  },
  {
   "cell_type": "markdown",
   "metadata": {},
   "source": [
    "Este paso permitirá observar las características de los datos y realizar una limpieza en caso necesario.\n",
    "\n",
    "Explicación del proceso:\n",
    "Eliminación de duplicados: Se eliminan filas duplicadas que podrían afectar los resultados del modelo. Esto asegura que cada fila sea \n",
    "única.\n",
    "\n",
    "Interpolación y llenado de valores nulos:\n",
    "Si se detectan valores nulos, se aplica interpolación lineal para predecir los valores faltantes basándose en los valores vecinos.\n",
    "Si tras la interpolación aún quedan valores nulos, estos se rellenan con la mediana de la columna correspondiente, minimizando el impacto \n",
    "de valores atípicos.\n",
    "Estandarización de características geológicas: Las columnas f0, f1, y f2 se estandarizan para que tengan una distribución normal con media \n",
    "0 y desviación estándar de 1. Esto es importante cuando se utilizan modelos como la regresión lineal, ya que el modelo asume que las \n",
    "características están en la misma escala."
   ]
  },
  {
   "cell_type": "markdown",
   "metadata": {},
   "source": [
    "Entrenar y probar el modelo en cada región\n",
    "Se va dividir los datos en conjunto de entrenamiento y validación en una proporción de 75:25, entrenar un modelo de regresión lineal y \n",
    "hacer predicciones."
   ]
  },
  {
   "cell_type": "code",
   "execution_count": 5,
   "metadata": {},
   "outputs": [],
   "source": [
    "# Función para entrenar y evaluar el modelo\n",
    "def train_and_evaluate_models(file_paths):\n",
    "    results = {}\n",
    "    \n",
    "    for i, file_path in enumerate(file_paths):\n",
    "        # Cargar los datos\n",
    "        data = pd.read_csv(file_path)\n",
    "        \n",
    "        # Dividir en características (f0, f1, f2) y el objetivo (product)\n",
    "        features = data[['f0', 'f1', 'f2']]\n",
    "        target = data['product']\n",
    "        \n",
    "        # Dividir en conjunto de entrenamiento y validación\n",
    "        X_train, X_valid, y_train, y_valid = train_test_split(features, target, test_size=0.25, random_state=42)\n",
    "        \n",
    "        # Entrenar el modelo\n",
    "        model = LinearRegression()\n",
    "        model.fit(X_train, y_train)\n",
    "        \n",
    "        # Hacer predicciones\n",
    "        predictions = model.predict(X_valid)\n",
    "        \n",
    "        # Calcular RMSE\n",
    "        rmse = mean_squared_error(y_valid, predictions, squared=False)\n",
    "\n",
    "        # Calcular el volumen medio de reservas predicho\n",
    "        mean_predicted_volume = np.mean(predictions)\n",
    "        \n",
    "        # Almacenar los resultados (predicciones y respuestas reales)\n",
    "        results[f\"region_{i}\"] = {\n",
    "            'predictions': pd.Series(predictions, index=y_valid.index),\n",
    "            'actual': y_valid,\n",
    "            'rmse': rmse,\n",
    "            'mean_predicted_volume': mean_predicted_volume\n",
    "        }\n",
    "        \n",
    "         # Mostrar RMSE y volumen medio de reservas predicho para cada archivo\n",
    "        print(f\"RMSE para región {i}: {rmse}\")\n",
    "        print(f\"Volumen medio de reservas predicho para región {i}: {mean_predicted_volume:.2f} miles de barriles\")\n",
    "    \n",
    "    return results"
   ]
  },
  {
   "cell_type": "code",
   "execution_count": 6,
   "metadata": {},
   "outputs": [
    {
     "name": "stdout",
     "output_type": "stream",
     "text": [
      "RMSE para región 0: 37.75660035026169\n",
      "Volumen medio de reservas predicho para región 0: 92.40 miles de barriles\n",
      "RMSE para región 1: 0.890280100102884\n",
      "Volumen medio de reservas predicho para región 1: 68.71 miles de barriles\n",
      "RMSE para región 2: 40.145872311342174\n",
      "Volumen medio de reservas predicho para región 2: 94.77 miles de barriles\n"
     ]
    }
   ],
   "source": [
    "# Aplicar la función para procesar las tres regiones\n",
    "regions_results = train_and_evaluate_models(file_paths)"
   ]
  },
  {
   "cell_type": "code",
   "execution_count": 7,
   "metadata": {},
   "outputs": [
    {
     "name": "stdout",
     "output_type": "stream",
     "text": [
      "Resultados para region_0:\n",
      "       predictions      actual\n",
      "75721   101.901017  122.073350\n",
      "80184    78.217774   48.738540\n",
      "19864   115.266901  131.338088\n",
      "76699   105.618618   88.327757\n",
      "92991    97.980185   36.959266\n",
      "Resultados para region_1:\n",
      "       predictions      actual\n",
      "75721     0.844738    0.000000\n",
      "80184    52.921612   53.906522\n",
      "19864   135.110385  134.766305\n",
      "76699   109.494863  107.813044\n",
      "92991    -0.047292    0.000000\n",
      "Resultados para region_2:\n",
      "       predictions      actual\n",
      "75721    98.301916  117.441301\n",
      "80184   101.592461   47.841249\n",
      "19864    52.449099   45.883483\n",
      "76699   109.922127  139.014608\n",
      "92991    72.411847   84.004276\n"
     ]
    }
   ],
   "source": [
    "# Mostrar una muestra de las predicciones y valores reales para cada región\n",
    "for region, result in regions_results.items():\n",
    "    print(f\"Resultados para {region}:\")\n",
    "    print(pd.DataFrame({'predictions': result['predictions'], 'actual': result['actual']}).head())"
   ]
  },
  {
   "cell_type": "code",
   "execution_count": 8,
   "metadata": {},
   "outputs": [],
   "source": [
    "# Función para graficar el RMSE y el volumen medio de reservas predicho\n",
    "def plot_rmse_and_volume(results):\n",
    "    regions = list(results.keys())\n",
    "    rmse_values = [results[region]['rmse'] for region in regions]\n",
    "    mean_volumes = [results[region]['mean_predicted_volume'] for region in regions]\n",
    "\n",
    "    # Gráfico de barras para el RMSE\n",
    "    plt.figure(figsize=(10, 5))\n",
    "\n",
    "    plt.subplot(1, 2, 1)\n",
    "    plt.bar(regions, rmse_values, color='orange')\n",
    "    plt.title('RMSE por Región')\n",
    "    plt.xlabel('Región')\n",
    "    plt.ylabel('RMSE')\n",
    "\n",
    "    # Gráfico de barras para el volumen medio de reservas predicho\n",
    "    plt.subplot(1, 2, 2)\n",
    "    plt.bar(regions, mean_volumes, color='blue')\n",
    "    plt.title('Volumen Medio de Reservas Predicho (Miles de Barriles)')\n",
    "    plt.xlabel('Región')\n",
    "    plt.ylabel('Volumen Medio (Miles de Barriles)')\n",
    "\n",
    "    # Mostrar ambos gráficos\n",
    "    plt.tight_layout()\n",
    "    plt.show()"
   ]
  },
  {
   "cell_type": "code",
   "execution_count": 9,
   "metadata": {},
   "outputs": [
    {
     "data": {
      "image/png": "[encoded data removed]",
      "text/plain": [
       "<Figure size 1000x500 with 2 Axes>"
      ]
     },
     "metadata": {},
     "output_type": "display_data"
    }
   ],
   "source": [
    "# Llamar a la función para graficar los resultados de las tres regiones\n",
    "plot_rmse_and_volume(regions_results)"
   ]
  },
  {
   "cell_type": "markdown",
   "metadata": {},
   "source": [
    "Cálculo del volumen medio de reservas predicho:\n",
    "Después de realizar las predicciones con el modelo de regresión lineal, se agregó una línea para calcular el promedio de las predicciones. Este valor representa el volumen medio de reservas que el modelo predice para los pozos en la región.\n",
    "Visualización del RMSE y el volumen medio predicho:\n",
    "Ahora se muestra explícitamente el valor del RMSE y el volumen medio de reservas predicho en miles de barriles para cada región, \n",
    "facilitando una mejor interpretación de los resultados y permitiendo evaluar tanto el error como el rendimiento promedio del modelo."
   ]
  },
  {
   "cell_type": "markdown",
   "metadata": {},
   "source": [
    "Aquí evaluamos el rendimiento del modelo y el error de las predicciones usando RMSE. \n",
    "El objetivo es que el modelo prediga correctamente el volumen de reservas basado en las características geológicas."
   ]
  },
  {
   "cell_type": "markdown",
   "metadata": {},
   "source": [
    " Preparación para calcular las ganancias.  \n",
    " Dado que el presupuesto para desarrollar 200 pozos es de 100 millones de dólares, necesitamos que cada pozo produzca en promedio 500,000 \n",
    " dólares. La ganancia de un barril es de 4.5 USD."
   ]
  },
  {
   "cell_type": "code",
   "execution_count": 10,
   "metadata": {},
   "outputs": [],
   "source": [
    "# Función para calcular la ganancia\n",
    "def calculate_profit(predictions, count_wells=200, price_per_barrel=4500):\n",
    "    # Seleccionar los pozos con los valores predichos más altos\n",
    "    top_wells = predictions.sort_values(ascending=False)[:count_wells]\n",
    "    total_reserve = top_wells.sum()  # Reservas totales en miles de barriles\n",
    "    profit = total_reserve * price_per_barrel  # Ganancia en dólares\n",
    "    return profit\n"
   ]
  },
  {
   "cell_type": "code",
   "execution_count": 11,
   "metadata": {},
   "outputs": [],
   "source": [
    "# Función para calcular riesgos y ganancias con bootstrapping\n",
    "def bootstrap_profit(predictions, n_samples=1000, count_wells=200, price_per_barrel=4500):\n",
    "    profits = []\n",
    "    for _ in range(n_samples):\n",
    "        sample = predictions.sample(n=len(predictions), replace=True)\n",
    "        profit = calculate_profit(sample, count_wells, price_per_barrel)\n",
    "        profits.append(profit)\n",
    "    return np.array(profits)"
   ]
  },
  {
   "cell_type": "code",
   "execution_count": 12,
   "metadata": {},
   "outputs": [
    {
     "name": "stdout",
     "output_type": "stream",
     "text": [
      "\n",
      "Resultados para region_0:\n",
      "Beneficio promedio: 138973172.96954066\n",
      "Intervalo de confianza (95%): [1.37688579e+08 1.40172240e+08]\n",
      "Riesgo de pérdidas: 0.0%\n",
      "\n",
      "Resultados para region_1:\n",
      "Beneficio promedio: 124868351.14230429\n",
      "Intervalo de confianza (95%): [1.24819099e+08 1.24918648e+08]\n",
      "Riesgo de pérdidas: 0.0%\n",
      "\n",
      "Resultados para region_2:\n",
      "Beneficio promedio: 133753179.15222846\n",
      "Intervalo de confianza (95%): [1.32784179e+08 1.34696127e+08]\n",
      "Riesgo de pérdidas: 0.0%\n"
     ]
    }
   ],
   "source": [
    "# Análisis de riesgos y ganancias por región\n",
    "for region, result in regions_results.items():\n",
    "    predictions = result['predictions']\n",
    "    \n",
    "    # Aplicar bootstrapping\n",
    "    profits = bootstrap_profit(predictions)\n",
    "    \n",
    "    # Calcular el beneficio promedio, intervalo de confianza y riesgo de pérdidas\n",
    "    mean_profit = np.mean(profits)\n",
    "    confidence_interval = np.percentile(profits, [2.5, 97.5])\n",
    "    risk_of_loss = np.mean(profits < 0) * 100\n",
    "    \n",
    "    print(f'\\nResultados para {region}:')\n",
    "    print(f'Beneficio promedio: {mean_profit}')\n",
    "    print(f'Intervalo de confianza (95%): {confidence_interval}')\n",
    "    print(f'Riesgo de pérdidas: {risk_of_loss}%')"
   ]
  },
  {
   "cell_type": "code",
   "execution_count": 13,
   "metadata": {},
   "outputs": [],
   "source": [
    "# Seleccionar la mejor región para el desarrollo\n",
    "best_region = None\n",
    "highest_mean_profit = -float('inf')"
   ]
  },
  {
   "cell_type": "code",
   "execution_count": 14,
   "metadata": {},
   "outputs": [
    {
     "name": "stdout",
     "output_type": "stream",
     "text": [
      "\n",
      "La mejor región para el desarrollo de pozos es: region_0 con un beneficio promedio de 138923682.51026276\n"
     ]
    }
   ],
   "source": [
    "for region, result in regions_results.items():\n",
    "    predictions = result['predictions']\n",
    "    \n",
    "    # Aplicar bootstrapping\n",
    "    profits = bootstrap_profit(predictions)\n",
    "    \n",
    "    # Calcular el beneficio promedio\n",
    "    mean_profit = np.mean(profits)\n",
    "    \n",
    "    if mean_profit > highest_mean_profit:\n",
    "        highest_mean_profit = mean_profit\n",
    "        best_region = region\n",
    "\n",
    "print(f'\\nLa mejor región para el desarrollo de pozos es: {best_region} con un beneficio promedio de {highest_mean_profit}')\n"
   ]
  },
  {
   "cell_type": "markdown",
   "metadata": {},
   "source": [
    "Resumen de los resultados:  \n",
    "\n",
    "Región 0:  \n",
    "\n",
    "RMSE: 37.76  \n",
    "Beneficio promedio: $138,979,062.11  \n",
    "Intervalo de confianza (95%): [$137,773,503, $140,259,204]  \n",
    "Riesgo de pérdidas: 0.0%  \n",
    "\n",
    "Región 1:  \n",
    "\n",
    "RMSE: 0.89  \n",
    "Beneficio promedio: $124,869,972.83  \n",
    "Intervalo de confianza (95%): [$124,815,734, $124,923,436]  \n",
    "Riesgo de pérdidas: 0.0%  \n",
    "\n",
    "Región 2:  \n",
    "\n",
    "RMSE: 40.15  \n",
    "Beneficio promedio: $133,752,965.51  \n",
    "Intervalo de confianza (95%): [$132,628,271, $134,789,853]  \n",
    "Riesgo de pérdidas: 0.0%  "
   ]
  },
  {
   "cell_type": "markdown",
   "metadata": {},
   "source": [
    "Conclusión:\n",
    "La mejor región para el desarrollo de los 200 nuevos pozos es Región 0, ya que ofrece el beneficio promedio más alto de $138,979,062.11 y \n",
    "no presenta ningún riesgo de pérdidas según la técnica de bootstrapping."
   ]
  }
 ],
 "metadata": {
  "kernelspec": {
   "display_name": "Python 3",
   "language": "python",
   "name": "python3"
  },
  "language_info": {
   "codemirror_mode": {
    "name": "ipython",
    "version": 3
   },
   "file_extension": ".py",
   "mimetype": "text/x-python",
   "name": "python",
   "nbconvert_exporter": "python",
   "pygments_lexer": "ipython3",
   "version": "3.8.10"
  }
 },
 "nbformat": 4,
 "nbformat_minor": 2
}
